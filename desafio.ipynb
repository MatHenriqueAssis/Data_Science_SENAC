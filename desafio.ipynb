{
 "cells": [
  {
   "cell_type": "code",
   "execution_count": null,
   "metadata": {},
   "outputs": [],
   "source": [
    "#importando bibliotecas\n",
    "\n",
    "import pandas as pd \n",
    "import numpy as np"
   ]
  },
  {
   "cell_type": "code",
   "execution_count": null,
   "metadata": {},
   "outputs": [],
   "source": [
    "# Criando um csv a partir de um dataframe\n",
    "\n",
    "dados = {\n",
    "    \"Região\": [\"Norte\", \"Norte\", \"Sul\", \"Sul\", \"Norte\"],\n",
    "    \"Mês\": [\"Jan\", \"Fev\", \"Jan\", \"Fev\", \"Mar\"],\n",
    "    \"Vendas\": [1500, np.nan, 2200, 1800, 2000],\n",
    "    \"Despesas\": [300, 250, np.nan, 400, 350]\n",
    "}\n",
    "\n",
    "df = pd.DataFrame(dados)\n",
    "df.to_csv(\"vendas.csv\", index=False)\n",
    "df  # mostrar a tabela no notebook\n"
   ]
  },
  {
   "cell_type": "code",
   "execution_count": null,
   "metadata": {},
   "outputs": [],
   "source": [
    "# Carregar o arquivo CSV e visualizar dados\n",
    "\n",
    "df = pd.read_csv(\"vendas.csv\")\n",
    "\n",
    "print(\"Visualização inicial dos dados:\")\n",
    "display(df)\n",
    "\n",
    "print(\"\\nInformações do DataFrame:\")\n",
    "print(df.info())"
   ]
  },
  {
   "cell_type": "code",
   "execution_count": null,
   "metadata": {},
   "outputs": [],
   "source": [
    "# Substituir valores ausentes e verificar se foram substituídos\n",
    "\n",
    "df[\"Vendas\"].fillna(df[\"Vendas\"].median(), inplace=True)\n",
    "df[\"Despesas\"].fillna(df[\"Despesas\"].mean(), inplace=True)\n",
    "\n",
    "print(\"Dados após substituição de valores ausentes:\")\n",
    "display(df)\n"
   ]
  },
  {
   "cell_type": "code",
   "execution_count": null,
   "metadata": {},
   "outputs": [],
   "source": [
    "# Agrupar dados por Região e Mês\n",
    "\n",
    "agrupado = df.groupby([\"Região\", \"Mês\"]).agg({\n",
    "    \"Vendas\": \"sum\",\n",
    "    \"Despesas\": \"mean\"\n",
    "}).reset_index()\n",
    "\n",
    "print(\"Dados agrupados por Região e Mês:\")\n",
    "display(agrupado)\n"
   ]
  },
  {
   "cell_type": "code",
   "execution_count": null,
   "metadata": {},
   "outputs": [],
   "source": [
    "# Selecionar colunas e combinar horizontalmente\n",
    "\n",
    "vendas = df[\"Vendas\"].values.reshape(-1, 1)\n",
    "despesas = df[\"Despesas\"].values.reshape(-1, 1)\n",
    "\n",
    "combinado = np.hstack((vendas, despesas))\n",
    "\n",
    "print(\"Combinação horizontal de Vendas e Despesas:\")\n",
    "print(combinado)\n"
   ]
  },
  {
   "cell_type": "code",
   "execution_count": null,
   "metadata": {},
   "outputs": [],
   "source": [
    "# Criar sumário estatístico das colunas numéricas\n",
    "\n",
    "print(\"Sumário estatístico das colunas numéricas:\")\n",
    "display(df.describe().T[[\"mean\", \"50%\", \"std\"]].rename(columns={\"50%\": \"median\"}))\n"
   ]
  }
 ],
 "metadata": {
  "kernelspec": {
   "display_name": "Python 3",
   "language": "python",
   "name": "python3"
  },
  "language_info": {
   "codemirror_mode": {
    "name": "ipython",
    "version": 3
   },
   "file_extension": ".py",
   "mimetype": "text/x-python",
   "name": "python",
   "nbconvert_exporter": "python",
   "pygments_lexer": "ipython3",
   "version": "3.12.7"
  }
 },
 "nbformat": 4,
 "nbformat_minor": 2
}
